{
 "cells": [
  {
   "cell_type": "code",
   "execution_count": 1,
   "metadata": {},
   "outputs": [],
   "source": [
    "import pandas as pd\n",
    "import numpy as np"
   ]
  },
  {
   "cell_type": "code",
   "execution_count": 2,
   "metadata": {},
   "outputs": [
    {
     "data": {
      "text/html": [
       "<div>\n",
       "<style scoped>\n",
       "    .dataframe tbody tr th:only-of-type {\n",
       "        vertical-align: middle;\n",
       "    }\n",
       "\n",
       "    .dataframe tbody tr th {\n",
       "        vertical-align: top;\n",
       "    }\n",
       "\n",
       "    .dataframe thead th {\n",
       "        text-align: right;\n",
       "    }\n",
       "</style>\n",
       "<table border=\"1\" class=\"dataframe\">\n",
       "  <thead>\n",
       "    <tr style=\"text-align: right;\">\n",
       "      <th></th>\n",
       "      <th>CASE_NUMBER</th>\n",
       "      <th>DECISION_DATE</th>\n",
       "      <th>CASE_STATUS</th>\n",
       "      <th>CASE_RECEIVED_DATE</th>\n",
       "      <th>REFILE</th>\n",
       "      <th>ORIG_FILE_DATE</th>\n",
       "      <th>ORIG_CASE_NO</th>\n",
       "      <th>SCHD_A_SHEEPHERDER</th>\n",
       "      <th>EMPLOYER_NAME</th>\n",
       "      <th>EMPLOYER_ADDRESS_1</th>\n",
       "      <th>...</th>\n",
       "      <th>FW_INFO_TRAINING_COMP</th>\n",
       "      <th>FW_INFO_REQ_EXPERIENCE</th>\n",
       "      <th>FW_INFO_ALT_EDU_EXPERIENCE</th>\n",
       "      <th>FW_INFO_REL_OCCUP_EXP</th>\n",
       "      <th>PREPARER_INFO_EMP_COMPLETED</th>\n",
       "      <th>PREPARER_INFO_TITLE</th>\n",
       "      <th>EMPLOYER_DECL_INFO_TITLE</th>\n",
       "      <th>NAICS_US_CODE</th>\n",
       "      <th>NAICS_US_TITLE</th>\n",
       "      <th>PW_Job_Title_9089</th>\n",
       "    </tr>\n",
       "  </thead>\n",
       "  <tbody>\n",
       "    <tr>\n",
       "      <th>0</th>\n",
       "      <td>A-14220-96665</td>\n",
       "      <td>2015-02-03</td>\n",
       "      <td>Certified-Expired</td>\n",
       "      <td>2014-09-10</td>\n",
       "      <td>N</td>\n",
       "      <td>NaT</td>\n",
       "      <td>NaN</td>\n",
       "      <td>N</td>\n",
       "      <td>UNION PACIFIC RAILROAD</td>\n",
       "      <td>1400 DOUGLAS ST, STOP CODE 0320</td>\n",
       "      <td>...</td>\n",
       "      <td>A</td>\n",
       "      <td>Y</td>\n",
       "      <td>Y</td>\n",
       "      <td>A</td>\n",
       "      <td>N</td>\n",
       "      <td>Attorney at Law</td>\n",
       "      <td>Assistant Vice President, Human Resources</td>\n",
       "      <td>482111</td>\n",
       "      <td>Line-Haul Railroads</td>\n",
       "      <td>Software Developers, Applications</td>\n",
       "    </tr>\n",
       "    <tr>\n",
       "      <th>1</th>\n",
       "      <td>A-14220-96720</td>\n",
       "      <td>2015-01-12</td>\n",
       "      <td>Certified-Expired</td>\n",
       "      <td>2014-08-08</td>\n",
       "      <td>N</td>\n",
       "      <td>NaT</td>\n",
       "      <td>NaN</td>\n",
       "      <td>N</td>\n",
       "      <td>VST CONSULTING INC</td>\n",
       "      <td>200 MIDDLESEX ESSEX TPK</td>\n",
       "      <td>...</td>\n",
       "      <td>A</td>\n",
       "      <td>Y</td>\n",
       "      <td>A</td>\n",
       "      <td>Y</td>\n",
       "      <td>N</td>\n",
       "      <td>ATTORNEY</td>\n",
       "      <td>PRESIDENT</td>\n",
       "      <td>541511</td>\n",
       "      <td>Custom Computer Programming Services</td>\n",
       "      <td>Software Developers, Applications</td>\n",
       "    </tr>\n",
       "    <tr>\n",
       "      <th>2</th>\n",
       "      <td>A-14203-91167</td>\n",
       "      <td>2014-12-18</td>\n",
       "      <td>Certified-Expired</td>\n",
       "      <td>2014-07-28</td>\n",
       "      <td>N</td>\n",
       "      <td>NaT</td>\n",
       "      <td>NaN</td>\n",
       "      <td>N</td>\n",
       "      <td>GOOGLE INC.</td>\n",
       "      <td>1600 AMPHITHEATRE PARKWAY</td>\n",
       "      <td>...</td>\n",
       "      <td>A</td>\n",
       "      <td>A</td>\n",
       "      <td>N</td>\n",
       "      <td>Y</td>\n",
       "      <td>N</td>\n",
       "      <td>Attorney</td>\n",
       "      <td>Immigration Program Specialist</td>\n",
       "      <td>541512</td>\n",
       "      <td>Computer Systems Design Services</td>\n",
       "      <td>Software Developers, Applications</td>\n",
       "    </tr>\n",
       "    <tr>\n",
       "      <th>3</th>\n",
       "      <td>A-14206-92509</td>\n",
       "      <td>2015-03-10</td>\n",
       "      <td>Certified-Expired</td>\n",
       "      <td>2014-10-19</td>\n",
       "      <td>N</td>\n",
       "      <td>NaT</td>\n",
       "      <td>NaN</td>\n",
       "      <td>N</td>\n",
       "      <td>INTEL CORPORATION</td>\n",
       "      <td>2200 MISSION COLLEGE BLVD.</td>\n",
       "      <td>...</td>\n",
       "      <td>A</td>\n",
       "      <td>A</td>\n",
       "      <td>A</td>\n",
       "      <td>A</td>\n",
       "      <td>N</td>\n",
       "      <td>Attorney</td>\n",
       "      <td>U.S. Immigration Ops Manager</td>\n",
       "      <td>3344</td>\n",
       "      <td>Semiconductor and Other Electronic Component M...</td>\n",
       "      <td>Electronics Engineers, Except Computer</td>\n",
       "    </tr>\n",
       "    <tr>\n",
       "      <th>4</th>\n",
       "      <td>A-14202-90786</td>\n",
       "      <td>2015-01-07</td>\n",
       "      <td>Certified-Expired</td>\n",
       "      <td>2014-08-25</td>\n",
       "      <td>N</td>\n",
       "      <td>NaT</td>\n",
       "      <td>NaN</td>\n",
       "      <td>N</td>\n",
       "      <td>NET ESOLUTIONS CORPORATION</td>\n",
       "      <td>8280 GREENSBORO DRIVE</td>\n",
       "      <td>...</td>\n",
       "      <td>A</td>\n",
       "      <td>N</td>\n",
       "      <td>Y</td>\n",
       "      <td>Y</td>\n",
       "      <td>N</td>\n",
       "      <td>Attorney-at-Law</td>\n",
       "      <td>Managing Director</td>\n",
       "      <td>541511</td>\n",
       "      <td>Custom Computer Programming Services</td>\n",
       "      <td>Software Developers, Applications</td>\n",
       "    </tr>\n",
       "  </tbody>\n",
       "</table>\n",
       "<p>5 rows × 125 columns</p>\n",
       "</div>"
      ],
      "text/plain": [
       "     CASE_NUMBER DECISION_DATE        CASE_STATUS CASE_RECEIVED_DATE REFILE  \\\n",
       "0  A-14220-96665    2015-02-03  Certified-Expired         2014-09-10      N   \n",
       "1  A-14220-96720    2015-01-12  Certified-Expired         2014-08-08      N   \n",
       "2  A-14203-91167    2014-12-18  Certified-Expired         2014-07-28      N   \n",
       "3  A-14206-92509    2015-03-10  Certified-Expired         2014-10-19      N   \n",
       "4  A-14202-90786    2015-01-07  Certified-Expired         2014-08-25      N   \n",
       "\n",
       "  ORIG_FILE_DATE ORIG_CASE_NO SCHD_A_SHEEPHERDER               EMPLOYER_NAME  \\\n",
       "0            NaT          NaN                  N      UNION PACIFIC RAILROAD   \n",
       "1            NaT          NaN                  N          VST CONSULTING INC   \n",
       "2            NaT          NaN                  N                 GOOGLE INC.   \n",
       "3            NaT          NaN                  N           INTEL CORPORATION   \n",
       "4            NaT          NaN                  N  NET ESOLUTIONS CORPORATION   \n",
       "\n",
       "                EMPLOYER_ADDRESS_1                   ...                    \\\n",
       "0  1400 DOUGLAS ST, STOP CODE 0320                   ...                     \n",
       "1          200 MIDDLESEX ESSEX TPK                   ...                     \n",
       "2        1600 AMPHITHEATRE PARKWAY                   ...                     \n",
       "3       2200 MISSION COLLEGE BLVD.                   ...                     \n",
       "4            8280 GREENSBORO DRIVE                   ...                     \n",
       "\n",
       "  FW_INFO_TRAINING_COMP FW_INFO_REQ_EXPERIENCE FW_INFO_ALT_EDU_EXPERIENCE  \\\n",
       "0                     A                      Y                          Y   \n",
       "1                     A                      Y                          A   \n",
       "2                     A                      A                          N   \n",
       "3                     A                      A                          A   \n",
       "4                     A                      N                          Y   \n",
       "\n",
       "  FW_INFO_REL_OCCUP_EXP PREPARER_INFO_EMP_COMPLETED PREPARER_INFO_TITLE  \\\n",
       "0                     A                           N     Attorney at Law   \n",
       "1                     Y                           N            ATTORNEY   \n",
       "2                     Y                           N            Attorney   \n",
       "3                     A                           N            Attorney   \n",
       "4                     Y                           N     Attorney-at-Law   \n",
       "\n",
       "                    EMPLOYER_DECL_INFO_TITLE  NAICS_US_CODE  \\\n",
       "0  Assistant Vice President, Human Resources         482111   \n",
       "1                                  PRESIDENT         541511   \n",
       "2             Immigration Program Specialist         541512   \n",
       "3               U.S. Immigration Ops Manager           3344   \n",
       "4                          Managing Director         541511   \n",
       "\n",
       "                                      NAICS_US_TITLE  \\\n",
       "0                                Line-Haul Railroads   \n",
       "1               Custom Computer Programming Services   \n",
       "2                   Computer Systems Design Services   \n",
       "3  Semiconductor and Other Electronic Component M...   \n",
       "4               Custom Computer Programming Services   \n",
       "\n",
       "                        PW_Job_Title_9089  \n",
       "0       Software Developers, Applications  \n",
       "1       Software Developers, Applications  \n",
       "2       Software Developers, Applications  \n",
       "3  Electronics Engineers, Except Computer  \n",
       "4       Software Developers, Applications  \n",
       "\n",
       "[5 rows x 125 columns]"
      ]
     },
     "execution_count": 2,
     "metadata": {},
     "output_type": "execute_result"
    }
   ],
   "source": [
    "fy15_data_path = \"Resources/FY15_data.xlsx\"\n",
    "fy15_df = pd.read_excel(fy15_data_path)\n",
    "fy15_df.head()"
   ]
  },
  {
   "cell_type": "code",
   "execution_count": 3,
   "metadata": {},
   "outputs": [
    {
     "data": {
      "text/plain": [
       "Index(['CASE_NUMBER', 'DECISION_DATE', 'CASE_STATUS', 'CASE_RECEIVED_DATE',\n",
       "       'REFILE', 'ORIG_FILE_DATE', 'ORIG_CASE_NO', 'SCHD_A_SHEEPHERDER',\n",
       "       'EMPLOYER_NAME', 'EMPLOYER_ADDRESS_1',\n",
       "       ...\n",
       "       'FW_INFO_TRAINING_COMP', 'FW_INFO_REQ_EXPERIENCE',\n",
       "       'FW_INFO_ALT_EDU_EXPERIENCE', 'FW_INFO_REL_OCCUP_EXP',\n",
       "       'PREPARER_INFO_EMP_COMPLETED', 'PREPARER_INFO_TITLE',\n",
       "       'EMPLOYER_DECL_INFO_TITLE', 'NAICS_US_CODE', 'NAICS_US_TITLE',\n",
       "       'PW_Job_Title_9089'],\n",
       "      dtype='object', length=125)"
      ]
     },
     "execution_count": 3,
     "metadata": {},
     "output_type": "execute_result"
    }
   ],
   "source": [
    "fy15_df.columns"
   ]
  },
  {
   "cell_type": "code",
   "execution_count": 4,
   "metadata": {},
   "outputs": [
    {
     "data": {
      "text/plain": [
       "CASE_NUMBER                              object\n",
       "DECISION_DATE                    datetime64[ns]\n",
       "CASE_STATUS                              object\n",
       "CASE_RECEIVED_DATE               datetime64[ns]\n",
       "EMPLOYER_NAME                            object\n",
       "EMPLOYER_CITY                            object\n",
       "EMPLOYER_STATE                           object\n",
       "EMPLOYER_POSTAL_CODE                     object\n",
       "EMPLOYER_NUM_EMPLOYEES                  float64\n",
       "AGENT_FIRM_NAME                          object\n",
       "AGENT_CITY                               object\n",
       "AGENT_STATE                              object\n",
       "PW_SOC_CODE                              object\n",
       "PW_SOC_TITLE                             object\n",
       "PW_AMOUNT_9089                          float64\n",
       "WAGE_OFFER_FROM_9089                    float64\n",
       "WAGE_OFFER_UNIT_OF_PAY_9089              object\n",
       "JOB_INFO_WORK_CITY                       object\n",
       "JOB_INFO_WORK_STATE                      object\n",
       "JOB_INFO_WORK_POSTAL_CODE                object\n",
       "JOB_INFO_JOB_TITLE                       object\n",
       "JOB_INFO_EDUCATION                       object\n",
       "JOB_INFO_EDUCATION_OTHER                 object\n",
       "FOREIGN_WORKER_INFO_CITY                 object\n",
       "FOREIGN_WORKER_INFO_STATE                object\n",
       "FW_INFO_POSTAL_CODE                      object\n",
       "COUNTRY_OF_CITIZENSHIP                   object\n",
       "FW_INFO_BIRTH_COUNTRY                    object\n",
       "CLASS_OF_ADMISSION                       object\n",
       "FOREIGN_WORKER_INFO_EDUCATION            object\n",
       "FW_INFO_EDUCATION_OTHER                  object\n",
       "dtype: object"
      ]
     },
     "execution_count": 4,
     "metadata": {},
     "output_type": "execute_result"
    }
   ],
   "source": [
    "# Select the columns that we need\n",
    "fy15_df2 = fy15_df[['CASE_NUMBER','DECISION_DATE','CASE_STATUS','CASE_RECEIVED_DATE','EMPLOYER_NAME','EMPLOYER_CITY',\n",
    "                   'EMPLOYER_STATE','EMPLOYER_POSTAL_CODE','EMPLOYER_NUM_EMPLOYEES','AGENT_FIRM_NAME','AGENT_CITY',\n",
    "                   'AGENT_STATE','PW_SOC_CODE','PW_SOC_TITLE','PW_AMOUNT_9089','WAGE_OFFER_FROM_9089','WAGE_OFFER_UNIT_OF_PAY_9089',\n",
    "                   'JOB_INFO_WORK_CITY','JOB_INFO_WORK_STATE','JOB_INFO_WORK_POSTAL_CODE','JOB_INFO_JOB_TITLE',\n",
    "                   'JOB_INFO_EDUCATION','JOB_INFO_EDUCATION_OTHER','FOREIGN_WORKER_INFO_CITY','FOREIGN_WORKER_INFO_STATE',\n",
    "                   'FW_INFO_POSTAL_CODE','COUNTRY_OF_CITIZENSHIP','FW_INFO_BIRTH_COUNTRY','CLASS_OF_ADMISSION','FOREIGN_WORKER_INFO_EDUCATION','FW_INFO_EDUCATION_OTHER']]\n",
    "fy15_df2.dtypes"
   ]
  },
  {
   "cell_type": "code",
   "execution_count": 5,
   "metadata": {},
   "outputs": [
    {
     "name": "stderr",
     "output_type": "stream",
     "text": [
      "C:\\Users\\freguenet3\\Anaconda3\\envs\\PythonData\\lib\\site-packages\\ipykernel_launcher.py:2: SettingWithCopyWarning: \n",
      "A value is trying to be set on a copy of a slice from a DataFrame.\n",
      "Try using .loc[row_indexer,col_indexer] = value instead\n",
      "\n",
      "See the caveats in the documentation: http://pandas.pydata.org/pandas-docs/stable/indexing.html#indexing-view-versus-copy\n",
      "  \n"
     ]
    },
    {
     "data": {
      "text/plain": [
       "CASE_NUMBER                              object\n",
       "DECISION_DATE                    datetime64[ns]\n",
       "CASE_STATUS                              object\n",
       "CASE_RECEIVED_DATE               datetime64[ns]\n",
       "EMPLOYER_NAME                            object\n",
       "EMPLOYER_CITY                            object\n",
       "EMPLOYER_STATE                           object\n",
       "EMPLOYER_POSTAL_CODE                     object\n",
       "EMPLOYER_NUM_EMPLOYEES                  float64\n",
       "AGENT_FIRM_NAME                          object\n",
       "AGENT_CITY                               object\n",
       "AGENT_STATE                              object\n",
       "PW_SOC_CODE                              object\n",
       "PW_SOC_TITLE                             object\n",
       "PW_AMOUNT_9089                          float64\n",
       "WAGE_OFFER_FROM_9089                    float64\n",
       "WAGE_OFFER_UNIT_OF_PAY_9089              object\n",
       "JOB_INFO_WORK_CITY                       object\n",
       "JOB_INFO_WORK_STATE                      object\n",
       "JOB_INFO_WORK_POSTAL_CODE                object\n",
       "JOB_INFO_JOB_TITLE                       object\n",
       "JOB_INFO_EDUCATION                       object\n",
       "JOB_INFO_EDUCATION_OTHER                 object\n",
       "FOREIGN_WORKER_INFO_CITY                 object\n",
       "FOREIGN_WORKER_INFO_STATE                object\n",
       "FW_INFO_POSTAL_CODE                      object\n",
       "COUNTRY_OF_CITIZENSHIP                   object\n",
       "FW_INFO_BIRTH_COUNTRY                    object\n",
       "CLASS_OF_ADMISSION                       object\n",
       "FOREIGN_WORKER_INFO_EDUCATION            object\n",
       "FW_INFO_EDUCATION_OTHER                  object\n",
       "dtype: object"
      ]
     },
     "execution_count": 5,
     "metadata": {},
     "output_type": "execute_result"
    }
   ],
   "source": [
    "# change column to float\n",
    "fy15_df2['WAGE_OFFER_FROM_9089'] = fy15_df2['WAGE_OFFER_FROM_9089'].astype(float)\n",
    "fy15_df2.dtypes"
   ]
  },
  {
   "cell_type": "code",
   "execution_count": 6,
   "metadata": {
    "scrolled": true
   },
   "outputs": [
    {
     "data": {
      "text/plain": [
       "CASE_NUMBER                      89297\n",
       "DECISION_DATE                    89297\n",
       "CASE_STATUS                      89297\n",
       "CASE_RECEIVED_DATE               89295\n",
       "EMPLOYER_NAME                    89293\n",
       "EMPLOYER_CITY                    89293\n",
       "EMPLOYER_STATE                   89284\n",
       "EMPLOYER_POSTAL_CODE             89289\n",
       "EMPLOYER_NUM_EMPLOYEES           89250\n",
       "AGENT_FIRM_NAME                  74050\n",
       "AGENT_CITY                       75869\n",
       "AGENT_STATE                      74725\n",
       "PW_SOC_CODE                      89141\n",
       "PW_SOC_TITLE                     89141\n",
       "PW_AMOUNT_9089                   89243\n",
       "WAGE_OFFER_FROM_9089             89262\n",
       "WAGE_OFFER_UNIT_OF_PAY_9089      88095\n",
       "JOB_INFO_WORK_CITY               89270\n",
       "JOB_INFO_WORK_STATE              89270\n",
       "JOB_INFO_WORK_POSTAL_CODE        89252\n",
       "JOB_INFO_JOB_TITLE               89274\n",
       "JOB_INFO_EDUCATION               89292\n",
       "JOB_INFO_EDUCATION_OTHER          2926\n",
       "FOREIGN_WORKER_INFO_CITY         88984\n",
       "FOREIGN_WORKER_INFO_STATE        84213\n",
       "FW_INFO_POSTAL_CODE              86241\n",
       "COUNTRY_OF_CITIZENSHIP           89273\n",
       "FW_INFO_BIRTH_COUNTRY            88980\n",
       "CLASS_OF_ADMISSION               83844\n",
       "FOREIGN_WORKER_INFO_EDUCATION    88979\n",
       "FW_INFO_EDUCATION_OTHER           3952\n",
       "dtype: int64"
      ]
     },
     "execution_count": 6,
     "metadata": {},
     "output_type": "execute_result"
    }
   ],
   "source": [
    "fy15_df2.count()"
   ]
  },
  {
   "cell_type": "code",
   "execution_count": 7,
   "metadata": {
    "scrolled": true
   },
   "outputs": [
    {
     "data": {
      "text/plain": [
       "89149"
      ]
     },
     "execution_count": 7,
     "metadata": {},
     "output_type": "execute_result"
    }
   ],
   "source": [
    "fy15_df2[\"CASE_NUMBER\"].nunique()"
   ]
  },
  {
   "cell_type": "code",
   "execution_count": 8,
   "metadata": {},
   "outputs": [],
   "source": [
    "fy15_df2.to_excel(\"Resources/FY15_Data_Clean.xlsx\")\n"
   ]
  },
  {
   "cell_type": "code",
   "execution_count": 4,
   "metadata": {},
   "outputs": [
    {
     "ename": "NameError",
     "evalue": "name 'fy15_df2' is not defined",
     "output_type": "error",
     "traceback": [
      "\u001b[1;31m---------------------------------------------------------------------------\u001b[0m",
      "\u001b[1;31mNameError\u001b[0m                                 Traceback (most recent call last)",
      "\u001b[1;32m<ipython-input-4-c8b7fe47f44b>\u001b[0m in \u001b[0;36m<module>\u001b[1;34m\u001b[0m\n\u001b[1;32m----> 1\u001b[1;33m \u001b[0mfy15_df2\u001b[0m\u001b[1;33m[\u001b[0m\u001b[1;34m\"COUNTRY_OF_CITIZENSHIP\"\u001b[0m\u001b[1;33m]\u001b[0m\u001b[1;33m.\u001b[0m\u001b[0munique\u001b[0m\u001b[1;33m(\u001b[0m\u001b[1;33m)\u001b[0m\u001b[1;33m\u001b[0m\u001b[1;33m\u001b[0m\u001b[0m\n\u001b[0m",
      "\u001b[1;31mNameError\u001b[0m: name 'fy15_df2' is not defined"
     ]
    }
   ],
   "source": []
  },
  {
   "cell_type": "code",
   "execution_count": null,
   "metadata": {},
   "outputs": [],
   "source": []
  }
 ],
 "metadata": {
  "kernelspec": {
   "display_name": "Python 3",
   "language": "python",
   "name": "python3"
  },
  "language_info": {
   "codemirror_mode": {
    "name": "ipython",
    "version": 3
   },
   "file_extension": ".py",
   "mimetype": "text/x-python",
   "name": "python",
   "nbconvert_exporter": "python",
   "pygments_lexer": "ipython3",
   "version": "3.6.7"
  }
 },
 "nbformat": 4,
 "nbformat_minor": 2
}
